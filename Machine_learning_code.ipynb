{
  "nbformat": 4,
  "nbformat_minor": 0,
  "metadata": {
    "colab": {
      "provenance": [],
      "collapsed_sections": []
    },
    "kernelspec": {
      "name": "python3",
      "display_name": "Python 3"
    },
    "language_info": {
      "name": "python"
    }
  },
  "cells": [
    {
      "cell_type": "code",
      "execution_count": null,
      "metadata": {
        "id": "rtky8NzQgzG1"
      },
      "outputs": [],
      "source": [
        "import pandas as pd\n",
        "\n",
        "data = pd.read_csv('/content/data.csv')\n",
        "\n",
        "data.isnull().any()"
      ]
    },
    {
      "cell_type": "code",
      "source": [
        "data = data.drop('Unnamed: 32', axis=1)"
      ],
      "metadata": {
        "id": "y-UGj9Qkh8jY"
      },
      "execution_count": null,
      "outputs": []
    },
    {
      "cell_type": "code",
      "source": [
        "data['diagnosis'].value_counts().plot(kind='barh', figsize=(8, 6))\n",
        "plt.xlabel(\"Count\", labelpad=14)\n",
        "plt.ylabel(\"Target Variable\", labelpad=14)\n",
        "plt.title(\"Count of TARGET Variable per category\", y=1.02);"
      ],
      "metadata": {
        "id": "DP9rk_riF_0x"
      },
      "execution_count": null,
      "outputs": []
    },
    {
      "cell_type": "code",
      "source": [
        "data.diagnosis.replace([\"M\", \"B\"], [1,0], inplace= True)"
      ],
      "metadata": {
        "id": "fjITtHcQh8pZ"
      },
      "execution_count": null,
      "outputs": []
    },
    {
      "cell_type": "code",
      "source": [
        "X = data.drop(['id', 'diagnosis'], axis=1)\n",
        "y = data.iloc[:,1]"
      ],
      "metadata": {
        "id": "HvVEQIDZh8t-"
      },
      "execution_count": null,
      "outputs": []
    },
    {
      "cell_type": "code",
      "source": [
        "# import libraries\n",
        "import pandas as pd\n",
        "import matplotlib.pyplot as plt\n",
        "import seaborn as sns\n",
        "from sklearn.preprocessing import LabelEncoder\n",
        "from sklearn.model_selection import train_test_split\n",
        "from sklearn import metrics\n",
        "from sklearn.linear_model import LogisticRegression\n",
        "import os\n",
        "import random\n",
        "import warnings\n",
        "random.seed(1)\n",
        "os.environ['PYTHONHASHSEED'] = '0'\n",
        "warnings.filterwarnings(\"ignore\")\n",
        "# read data\n",
        "\n",
        "label = LabelEncoder()\n",
        "y = label.fit_transform(y)\n",
        "X_train, X_test, y_train, y_test = train_test_split(X, y, test_size=0.2, random_state=0, stratify=y)\n",
        "\n",
        "\n",
        "\n",
        "# shuffle the data because data in series\n",
        "\n",
        "\n",
        "# Convert the M to 1 and B to 0\n",
        "label = LabelEncoder()\n",
        "y = label.fit_transform(y)\n",
        "\n",
        "# Spilt the train and test data\n",
        "\n",
        "# we used 30% test data\n",
        "from sklearn.preprocessing import StandardScaler\n",
        "scaler = StandardScaler()\n",
        "scaler.fit(X_train)\n",
        "X_train = scaler.transform(X_train)\n",
        "X_test = scaler.transform(X_test)\n",
        "\n",
        "classifier = LogisticRegression(multi_class='multinomial')\n",
        "# Performing training\n",
        "\n",
        "classifier.fit(X_train, y_train)\n",
        "\n",
        "y_pred = classifier.predict(X_test)\n",
        "pred = classifier.predict(X_test)\n",
        "from sklearn import metrics\n",
        "print(\"Multinomial Logistic Regression Model Accuracy(in %):\", metrics.accuracy_score(y_test, y_pred)*100)\n",
        "from sklearn.metrics import classification_report, confusion_matrix\n",
        "print(confusion_matrix(y_test, y_pred))\n",
        "print(classification_report(y_test, y_pred))\n",
        "print('==============')\n",
        "print(y_pred.shape)\n",
        "print(y_pred)\n",
        "target_name = ['Benign', 'Malignant']\n",
        "cm = confusion_matrix(y_test , y_pred )\n",
        "print('Print Classification Report')\n",
        "CR = classification_report(y_test , y_pred , target_names=target_name)\n",
        "print(CR)\n",
        "print('\\n')\n",
        "total = sum(sum(cm))\n",
        "acc = (cm[0, 0] + cm[1, 1]) / total\n",
        "sensitivity = cm[0, 0] / (cm[0, 0] + cm[0, 1])\n",
        "specificity = cm[1, 1] / (cm[1, 0] + cm[1, 1])\n",
        "print('Confusion Matrix \\n')\n",
        "print(cm)\n",
        "print('\\n')\n",
        "print(\"acc: {:.4f}\".format(acc))\n",
        "print('\\n')\n",
        "print(\"sensitivity: {:.4f}\".format(sensitivity))\n",
        "print('\\n')\n",
        "print(\"specificity: {:.4f}\".format(specificity))\n",
        "plt.style.use('seaborn')\n",
        "plt.figure(figsize=(15,12))\n",
        "sns.set(font_scale=1.2)\n",
        "sns.heatmap(cm , cmap='Blues' ,fmt='d' ,annot=True, xticklabels=target_name , yticklabels=target_name)\n",
        "plt.title('Confusion Matrix of Multinomial Logistic Regression on Breast Cancer Dataset')\n",
        "# plt.savefig('final/machine/cm-SGDC.png', dpi=800 , bbox_inches='tight')\n",
        "plt.show()\n",
        "print('[Operation] Done .')\n",
        "\n",
        "\n",
        "\n",
        "\n",
        "\n",
        "\n"
      ],
      "metadata": {
        "colab": {
          "base_uri": "https://localhost:8080/",
          "height": 1000
        },
        "id": "WLX8FGiZh8xR",
        "outputId": "adb95c11-40a1-46ef-d5d8-dc4c976028e2"
      },
      "execution_count": null,
      "outputs": [
        {
          "output_type": "stream",
          "name": "stdout",
          "text": [
            "Multinomial Logistic Regression Model Accuracy(in %): 95.6140350877193\n",
            "[[71  1]\n",
            " [ 4 38]]\n",
            "              precision    recall  f1-score   support\n",
            "\n",
            "           0       0.95      0.99      0.97        72\n",
            "           1       0.97      0.90      0.94        42\n",
            "\n",
            "    accuracy                           0.96       114\n",
            "   macro avg       0.96      0.95      0.95       114\n",
            "weighted avg       0.96      0.96      0.96       114\n",
            "\n",
            "==============\n",
            "(114,)\n",
            "[0 0 0 0 0 1 0 0 1 0 0 1 1 0 1 0 0 0 0 0 1 1 1 1 1 0 0 0 0 1 0 1 0 1 0 0 0\n",
            " 0 0 1 0 0 0 1 0 0 0 0 1 0 0 0 0 0 0 1 1 0 0 0 0 1 0 1 1 0 0 1 1 0 0 0 0 0\n",
            " 0 1 1 0 0 0 0 0 0 0 1 1 1 0 0 1 0 1 1 0 0 0 1 1 0 0 1 0 1 1 0 0 1 1 0 0 0\n",
            " 0 1 0]\n",
            "Print Classification Report\n",
            "              precision    recall  f1-score   support\n",
            "\n",
            "      Benign       0.95      0.99      0.97        72\n",
            "   Malignant       0.97      0.90      0.94        42\n",
            "\n",
            "    accuracy                           0.96       114\n",
            "   macro avg       0.96      0.95      0.95       114\n",
            "weighted avg       0.96      0.96      0.96       114\n",
            "\n",
            "\n",
            "\n",
            "Confusion Matrix \n",
            "\n",
            "[[71  1]\n",
            " [ 4 38]]\n",
            "\n",
            "\n",
            "acc: 0.9561\n",
            "\n",
            "\n",
            "sensitivity: 0.9861\n",
            "\n",
            "\n",
            "specificity: 0.9048\n"
          ]
        },
        {
          "output_type": "display_data",
          "data": {
            "text/plain": [
              "<Figure size 1080x864 with 2 Axes>"
            ],
            "image/png": "[encoded data removed]"
          },
          "metadata": {}
        },
        {
          "output_type": "stream",
          "name": "stdout",
          "text": [
            "[Operation] Done .\n"
          ]
        }
      ]
    }
  ]
}